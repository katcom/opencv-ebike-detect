{
 "cells": [
  {
   "cell_type": "markdown",
   "id": "c629e63a-b5f6-4b79-80cd-ab8473755dd2",
   "metadata": {},
   "source": [
    "# 基于SIFT的特征点匹配"
   ]
  },
  {
   "cell_type": "code",
   "execution_count": null,
   "id": "6e045f2d-a52a-482d-97f0-ae8c6e079f86",
   "metadata": {},
   "outputs": [],
   "source": [
    "import numpy as np\n",
    "import cv2\n",
    "from matplotlib import pyplot as plt\n",
    "\n",
    "ratio = 0.85\n",
    "img1 = cv2.imread('assets\\\\template_12.jpg')          # query Image\n",
    "img2 = cv2.imread('assets\\\\bikes\\\\bike_20.jpg')  # target Image\n",
    "# img2 = cv2.imread('template_12.jpg')          # query Image\n",
    "\n",
    "image_1_hsv=cv2.cvtColor(img1,cv2.COLOR_RGB2HSV)\n",
    "lower_yellow=np.array([101,56,0])\n",
    "upper_yellow=np.array([116,255,255])\n",
    "img1 = cv2.inRange(image_1_hsv,lower_yellow,upper_yellow)\n",
    "\n",
    "image_2_hsv=cv2.cvtColor(img2,cv2.COLOR_RGB2HSV)\n",
    "lower_yellow=np.array([101,56,0])\n",
    "upper_yellow=np.array([116,255,255])\n",
    "img2 = cv2.inRange(image_2_hsv,lower_yellow,upper_yellow)\n",
    "\n",
    "# Initiate SIFT detector\n",
    "orb = cv2.SIFT_create()\n",
    "\n",
    "# find the keypoints and descriptors with ORB\n",
    "kp1, des1 = orb.detectAndCompute(img1,None)\n",
    "kp2, des2 = orb.detectAndCompute(img2,None)\n",
    "\n",
    "\n",
    "# good_matches = matches[:10]\n",
    "matcher = cv2.BFMatcher()\n",
    "raw_matches = matcher.knnMatch(des1, des2, k = 2)\n",
    "good_matches = []\n",
    "for m1, m2 in raw_matches:\n",
    "    #  如果最接近和次接近的比值大于一个既定的值，那么我们保留这个最接近的值，认为它和其匹配的点为good_match\n",
    "    if m1.distance < ratio * m2.distance:\n",
    "        good_matches.append(m1)\n",
    "good_matches = good_matches[:10]\n",
    "src_pts = np.float32([ kp1[m.queryIdx].pt for m in good_matches     ]).reshape(-1,1,2)\n",
    "dst_pts = np.float32([ kp2[m.trainIdx].pt for m in good_matches ]).reshape(-1,1,2)\n",
    "M, mask = cv2.findHomography(src_pts, dst_pts, cv2.RANSAC,5.0)\n",
    "matchesMask = mask.ravel().tolist()\n",
    "h,w = img1.shape[:2]\n",
    "pts = np.float32([ [0,0],[0,h-1],[w-1,h-1],[w-1,0] ]).reshape(-1,1,2)\n",
    "\n",
    "dst = cv2.perspectiveTransform(pts,M)\n",
    "dst += (w, 0)  # adding offset\n",
    "\n",
    "draw_params = dict(matchColor = (0,255,0), # draw matches in green color\n",
    "               singlePointColor = None,\n",
    "               matchesMask = matchesMask, # draw only inliers\n",
    "               flags = 2)\n",
    "\n",
    "img3 = cv2.drawMatches(img1,kp1,img2,kp2,good_matches, None,**draw_params)\n",
    "\n",
    "# Draw bounding box in Red\n",
    "img3 = cv2.polylines(img3, [np.int32(dst)], True, (0,0,255),3, cv2.LINE_AA)\n",
    "\n",
    "plt.imshow(img3)\n",
    "plt.savefig('matche_2.png', dpi = 300)"
   ]
  }
 ],
 "metadata": {
  "kernelspec": {
   "display_name": "bikecheck",
   "language": "python",
   "name": "bikecheck"
  },
  "language_info": {
   "codemirror_mode": {
    "name": "ipython",
    "version": 3
   },
   "file_extension": ".py",
   "mimetype": "text/x-python",
   "name": "python",
   "nbconvert_exporter": "python",
   "pygments_lexer": "ipython3",
   "version": "3.9.5"
  }
 },
 "nbformat": 4,
 "nbformat_minor": 5
}
